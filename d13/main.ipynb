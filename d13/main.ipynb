{
 "cells": [
  {
   "cell_type": "code",
   "execution_count": null,
   "metadata": {},
   "outputs": [],
   "source": [
    "def parse_list(l: str):\n",
    "    return eval(l)\n",
    "\n",
    "def get_pairs(filename=\"input.txt\"):\n",
    "    with open(filename) as f:\n",
    "        all = f.read()\n",
    "    for ll in all.split(\"\\n\\n\"):\n",
    "\n",
    "        yield tuple(parse_list(l) for l in ll.split(\"\\n\") if len(l) > 0)\n"
   ]
  },
  {
   "cell_type": "code",
   "execution_count": null,
   "metadata": {},
   "outputs": [],
   "source": [
    "def compare_pair(a: int | list, b: int | list):\n",
    "    match a, b:\n",
    "        case int(a), int(b):\n",
    "            if a == b:\n",
    "                return None\n",
    "            return a < b\n",
    "        case int(a), list() as b:\n",
    "            return compare_pair([a], b)\n",
    "        case list() as a, int(b):\n",
    "            return compare_pair(a, [b])\n",
    "        case list() as a, list() as b:\n",
    "            M, N = len(a), len(b)\n",
    "            for a1, b1 in zip(a, b):\n",
    "                c = compare_pair(a1, b1)\n",
    "                if c == None:\n",
    "                    continue\n",
    "                return c\n",
    "            if M == N:\n",
    "                return None\n",
    "            return M < N\n",
    "\n",
    "\n",
    "pairs = list(get_pairs(\"input.txt\"))\n",
    "r = [i + 1 for i, p in enumerate(pairs) if compare_pair(*p)]\n",
    "sum(r)"
   ]
  },
  {
   "cell_type": "code",
   "execution_count": null,
   "metadata": {},
   "outputs": [],
   "source": [
    "# PART 2\n",
    "import functools\n",
    "import math\n",
    "\n",
    "flat_map = lambda xs, f=lambda z: z: (y for ys in xs for y in f(ys))\n",
    "dividers = [[[2]], [[6]]]\n",
    "packets = list(flat_map(get_pairs(\"input.txt\"))) + dividers\n",
    "\n",
    "\n",
    "def comparator(a: int | list, b: int | list):\n",
    "    c = compare_pair(a, b)\n",
    "    if c == None:\n",
    "        return 0\n",
    "    return -1 if c else 1\n",
    "\n",
    "\n",
    "math.prod(\n",
    "    i + 1\n",
    "    for i, p in enumerate(sorted(packets, key=functools.cmp_to_key(comparator)))\n",
    "    if p in dividers\n",
    ")\n"
   ]
  },
  {
   "cell_type": "code",
   "execution_count": null,
   "metadata": {},
   "outputs": [],
   "source": []
  }
 ],
 "metadata": {
  "kernelspec": {
   "display_name": ".venv",
   "language": "python",
   "name": "python3"
  },
  "language_info": {
   "codemirror_mode": {
    "name": "ipython",
    "version": 3
   },
   "file_extension": ".py",
   "mimetype": "text/x-python",
   "name": "python",
   "nbconvert_exporter": "python",
   "pygments_lexer": "ipython3",
   "version": "3.11.0"
  },
  "orig_nbformat": 4,
  "vscode": {
   "interpreter": {
    "hash": "72b46a1789ac70e35fa8c1a372396413ffe12f6638ab724b52d71104cecec0df"
   }
  }
 },
 "nbformat": 4,
 "nbformat_minor": 2
}
