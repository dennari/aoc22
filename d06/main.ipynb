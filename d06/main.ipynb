{
 "cells": [
  {
   "cell_type": "code",
   "execution_count": null,
   "metadata": {},
   "outputs": [],
   "source": [
    "def read_input(filename=\"input.txt\"):\n",
    "    with open(filename) as f:\n",
    "        return f.readline().strip()\n",
    "\n",
    "def get_n(l: str, n: int):\n",
    "    N = len(l)\n",
    "    for i in range(N-n):\n",
    "        yield i+n, l[i:(i+n)]\n",
    "\n",
    "for n, c in get_n(read_input(), 4):\n",
    "    if len(set(c)) == len(c):\n",
    "        print(n)\n",
    "        break\n",
    "for n, c in get_n(read_input(), 14):\n",
    "    if len(set(c)) == len(c):\n",
    "        print(n)\n",
    "        break"
   ]
  },
  {
   "cell_type": "code",
   "execution_count": null,
   "metadata": {},
   "outputs": [],
   "source": [
    "s = \"abc\"\n",
    "s[-1:]"
   ]
  },
  {
   "cell_type": "code",
   "execution_count": null,
   "metadata": {},
   "outputs": [],
   "source": [
    "palindrome = \"busislnescsicxpvvysuqgcudefrfjbwwjcchtgqyajdfwvkypfwshnihjdztgmyuuljxgvhdiwphrweyfkbnjgerkmifbirubhseuhrugwrabnjafnbdfjnufdstjbkuwtnpflffaqmjbhssjlnqftgjiglvvequhapasarlkcvbmkwnkuvwktbgfoaxteprobdwswcdyddyvrehvmxrrjiiidatidlpihkbmmruysmhhsncmfdanafdrfpdtfgkglcqpwrrtvacuicohspkounojuziittugpqjyhhkwfnflozbispehrtrnizowrlzcuollagxwtznjwzcumvedjwokueuqktvvouwnsmpxqvvpuwprezrbobrpnwaccwljchdguubjulyilzvmandjjleitweybqkjttschrjjlebnmponvlktzzcdtuybugggcqffkcffpamauvxfbonjrobgpvlyzveiwemmtdvbjciaytvesnocnjrwodtcokgcuoiicxapmrzpkfphjniuvzjrhbnqndfshoduejyktebgdabidxlkstepuwvtrtgbxaeheylicvhrxddijshcvdadxzsccmainyfpfdhqdanfccqkzlmhsfilvoybqojlvbcixjzqpbngdvesuokbxhkomsiqfyukvspqthlzxdnlwthrgaxhtpjzhrugqbfokrdcyurivmzgtynoqfjbafboselxnfupnpqlryvlcxeksirvufepfwczosrrjpudbwqxwldgjyfjhzlzcojxyqjyxxiqvfhjdwtgoqbyeocffnyxhyyiqspnvrpxmrtcnviukrjvpavervvztoxajriuvxqveqsrttjqepvvahywuzwtmgyrzduxfqspeipimyoxmkadrvrdyefekjxcmsmzmtbugyckcbjsrymszftjyllfmoeoylzeahnrxlxpnlvlvzltwnmldi\"\n",
    "\n",
    "\n",
    "def is_palindrome(s):\n",
    "    n = len(s)\n",
    "    if n == 1:\n",
    "        return True\n",
    "    left = s[: n // 2]\n",
    "    if n % 2 == 0:\n",
    "        right = s[n // 2 :]\n",
    "    else:\n",
    "        right = s[(n // 2) + 1 :]\n",
    "    return left == right[::-1]\n",
    "\n",
    "\n",
    "def longest_subpalindrome(s):\n",
    "    n = len(s)\n",
    "    if n == 1:\n",
    "        return s\n",
    "    if len(set(s)) == 1:\n",
    "        return s\n",
    "    if n == 2:\n",
    "        if s[0] == s[1]:\n",
    "            return s\n",
    "        return s[0]\n",
    "    cores = []\n",
    "\n",
    "    l = s[0]\n",
    "    for i in range(n - 2):\n",
    "        if s[i] == s[i + 2]:  # aba or aaa\n",
    "            cores.append((i, i + 2))\n",
    "        elif s[i] == s[i + 1]:  # aa\n",
    "            cores.append((i, i + 1))\n",
    "    print(cores)\n",
    "    for a, b in cores:\n",
    "        i = 0\n",
    "        while a - i >= 0 and b + i < n and s[a - i] == s[b + i]:\n",
    "            i += 1\n",
    "        #print(a,b,i)\n",
    "        ll = s[(a - i + 1) : (b + i)]\n",
    "        #print(ll)\n",
    "        if len(ll) > len(l):\n",
    "            l = ll\n",
    "    return l\n",
    "\n",
    "\n",
    "print(is_palindrome(\"a\"))\n",
    "print(is_palindrome(\"aa\"))\n",
    "print(is_palindrome(\"aba\"))\n",
    "print(is_palindrome(\"abba\"))\n",
    "print(is_palindrome(\"abqba\"))\n",
    "print(is_palindrome(\"abqbaa\"))\n",
    "print(len(palindrome))\n",
    "print(longest_subpalindrome(palindrome))\n",
    "print(longest_subpalindrome(\"qfsdfsdfaaaabqbaaaaasa\"))\n"
   ]
  },
  {
   "cell_type": "code",
   "execution_count": null,
   "metadata": {},
   "outputs": [],
   "source": [
    "s = \"abc\"\n",
    "s[0:2]"
   ]
  },
  {
   "cell_type": "code",
   "execution_count": null,
   "metadata": {},
   "outputs": [],
   "source": []
  }
 ],
 "metadata": {
  "kernelspec": {
   "display_name": ".venv",
   "language": "python",
   "name": "python3"
  },
  "language_info": {
   "codemirror_mode": {
    "name": "ipython",
    "version": 3
   },
   "file_extension": ".py",
   "mimetype": "text/x-python",
   "name": "python",
   "nbconvert_exporter": "python",
   "pygments_lexer": "ipython3",
   "version": "3.11.0 (main, Oct 25 2022, 14:13:24) [Clang 14.0.0 (clang-1400.0.29.202)]"
  },
  "orig_nbformat": 4,
  "vscode": {
   "interpreter": {
    "hash": "72b46a1789ac70e35fa8c1a372396413ffe12f6638ab724b52d71104cecec0df"
   }
  }
 },
 "nbformat": 4,
 "nbformat_minor": 2
}
