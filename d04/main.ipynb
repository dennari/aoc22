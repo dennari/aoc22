{
 "cells": [
  {
   "cell_type": "code",
   "execution_count": null,
   "metadata": {},
   "outputs": [],
   "source": [
    "import re\n",
    "\n",
    "row_re_04 = re.compile(r'(\\d+)\\-(\\d+),(\\d+)\\-(\\d+)') \n",
    "def parserow04(l: str):\n",
    "  return [int(x) for x in row_re_04.match(l).groups()]\n",
    "def read_input04(filename=\"input.txt\"):\n",
    "  with open(filename) as f:\n",
    "    a = f.readlines()\n",
    "  return [parserow04(l.rstrip()) for l in a]\n",
    "\n",
    "input04 = read_input04()"
   ]
  },
  {
   "cell_type": "code",
   "execution_count": null,
   "metadata": {},
   "outputs": [],
   "source": [
    "def contains04(V, overlaps=False):\n",
    "    a1, a2, b1, b2 = V\n",
    "    if not overlaps:\n",
    "        # True only if the order of the points\n",
    "        # is a1,b1,b2,a2 or b1,a1,a2,b2\n",
    "        return (a1 - b1) * (a2 - b2) <= 0\n",
    "\n",
    "    # True only if the segments are not disjoint, i.e. they overlap\n",
    "    return (b1 - a2) * (a1 - b2) >= 0\n",
    "\n",
    "\n",
    "def contains04_2(V, overlaps=False):\n",
    "    a1, a2, b1, b2 = V\n",
    "    return (\n",
    "        (a1 <= b1 <= a2) or (b1 <= a1 <= b2)\n",
    "        if overlaps\n",
    "        else (a1 <= b1 <= b2 <= a2) or (b1 <= a1 <= a2 <= b2)\n",
    "    )\n"
   ]
  },
  {
   "cell_type": "code",
   "execution_count": null,
   "metadata": {},
   "outputs": [],
   "source": [
    "part1 = list(filter(contains04, input04))\n",
    "len(part1)"
   ]
  },
  {
   "cell_type": "code",
   "execution_count": null,
   "metadata": {},
   "outputs": [],
   "source": [
    "part2 = list(filter(lambda V: contains04(V, overlaps=True), input04))\n",
    "len(part2)"
   ]
  }
 ],
 "metadata": {
  "kernelspec": {
   "display_name": "Python 3.10.8 64-bit",
   "language": "python",
   "name": "python3"
  },
  "language_info": {
   "codemirror_mode": {
    "name": "ipython",
    "version": 3
   },
   "file_extension": ".py",
   "mimetype": "text/x-python",
   "name": "python",
   "nbconvert_exporter": "python",
   "pygments_lexer": "ipython3",
   "version": "3.10.8"
  },
  "orig_nbformat": 4,
  "vscode": {
   "interpreter": {
    "hash": "5cf590adf64b12f100e2631293f66eedf21812d31d21d345d3dafaac5b13c0f5"
   }
  }
 },
 "nbformat": 4,
 "nbformat_minor": 2
}
