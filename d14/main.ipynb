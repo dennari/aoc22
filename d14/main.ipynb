{
 "cells": [
  {
   "cell_type": "code",
   "execution_count": null,
   "metadata": {},
   "outputs": [],
   "source": [
    "def parse_rock(l: str):\n",
    "    for c in l.split(\" -> \"):\n",
    "        x, y = c.split(\",\")\n",
    "        yield int(x), int(y)\n",
    "\n",
    "def get_rocks(filename=\"input.txt\"):\n",
    "    with open(filename) as f:\n",
    "        while l := f.readline():\n",
    "            if len(l) == 0:\n",
    "                break\n",
    "            yield list(parse_rock(l.strip()))\n",
    "\n",
    "rocks = list(get_rocks(\"input.txt\"))"
   ]
  },
  {
   "cell_type": "code",
   "execution_count": null,
   "metadata": {},
   "outputs": [],
   "source": [
    "import numpy as np\n",
    "\n",
    "M = max(p[1] for r in rocks for p in r) + 1\n",
    "N = max(p[0] for r in rocks for p in r) + 1\n",
    "Nmin = min(p[0] for r in rocks for p in r) + 1\n",
    "W = N - Nmin + 1\n",
    "w = np.abs(500 - W) // 2\n",
    "M, N, Nmin, W, w\n"
   ]
  },
  {
   "cell_type": "code",
   "execution_count": null,
   "metadata": {},
   "outputs": [],
   "source": [
    "import matplotlib.pyplot as plt\n",
    "\n",
    "MM = M + 2\n",
    "WW = 7 * W\n",
    "X = np.zeros((MM, WW), dtype=int)\n",
    "ww = np.array([Nmin - 1 - (WW - W) // 2, 0])\n",
    "\n",
    "for r in rocks:\n",
    "    for i in range(1, len(r)):\n",
    "        s = np.array(r[i-1]) - ww\n",
    "        e = np.array(r[i]) - ww\n",
    "        d = e - s\n",
    "        l = np.abs(d).max()\n",
    "        u = d // l\n",
    "        # print(s, e, d, l)\n",
    "        for j in range(l+1):\n",
    "            xy = (s + j*u)\n",
    "            # print(xy)\n",
    "            X[xy[1], xy[0]] = 1\n",
    "for j in range(WW):\n",
    "    X[MM - 1, j] = 1\n",
    "plt.imshow(X > 0, interpolation=None)"
   ]
  },
  {
   "cell_type": "code",
   "execution_count": null,
   "metadata": {},
   "outputs": [],
   "source": [
    "o = np.array([500, 0]) - ww\n",
    "d = np.array([0, 1])\n",
    "dl = np.array([-1, 1])\n",
    "dr = np.array([1, 1])\n",
    "\n",
    "\n",
    "def g(xy, X):\n",
    "    return X[xy[1], xy[0]]\n",
    "\n",
    "\n",
    "def s(xy, X):\n",
    "    X[xy[1], xy[0]] = 2\n",
    "\n",
    "\n",
    "def simulate(X):\n",
    "    c = o.copy()\n",
    "    while c[1] < MM - 1:\n",
    "        # print(c)\n",
    "        for n in [c + d, c + dl, c + dr]:\n",
    "            # print(n, g(n, X))\n",
    "            if g(n, X) == 0:\n",
    "                c = n\n",
    "                break\n",
    "        else:\n",
    "            s(c, X)\n",
    "            return c\n",
    "    return None\n",
    "\n",
    "XX = X.copy()\n",
    "for i in range(250000):\n",
    "    c = simulate(XX)\n",
    "    if c is None or np.all(c == o):\n",
    "        print(i+1)\n",
    "        break\n",
    "plt.imshow(XX, interpolation=None)"
   ]
  }
 ],
 "metadata": {
  "kernelspec": {
   "display_name": ".venv",
   "language": "python",
   "name": "python3"
  },
  "language_info": {
   "codemirror_mode": {
    "name": "ipython",
    "version": 3
   },
   "file_extension": ".py",
   "mimetype": "text/x-python",
   "name": "python",
   "nbconvert_exporter": "python",
   "pygments_lexer": "ipython3",
   "version": "3.11.0"
  },
  "orig_nbformat": 4,
  "vscode": {
   "interpreter": {
    "hash": "72b46a1789ac70e35fa8c1a372396413ffe12f6638ab724b52d71104cecec0df"
   }
  }
 },
 "nbformat": 4,
 "nbformat_minor": 2
}
