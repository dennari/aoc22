{
 "cells": [
  {
   "cell_type": "code",
   "execution_count": null,
   "metadata": {},
   "outputs": [],
   "source": [
    "import pandas as pd\n",
    "import string\n",
    "from typing import List\n"
   ]
  },
  {
   "cell_type": "markdown",
   "metadata": {},
   "source": [
    "# D2"
   ]
  },
  {
   "cell_type": "code",
   "execution_count": null,
   "metadata": {},
   "outputs": [],
   "source": [
    "def read_input02(filename=\"input.txt\"):\n",
    "  return pd.read_csv(filename, header=None, names=[\"opponent\", \"response\"], sep=\" \")\n",
    "read_input02()\n"
   ]
  },
  {
   "cell_type": "code",
   "execution_count": null,
   "metadata": {},
   "outputs": [],
   "source": [
    "signs = [\"R\", \"P\", \"S\"]\n",
    "me = [\"X\",  \"Y\", \"Z\"]\n",
    "them = [\"A\", \"B\", \"C\"]\n",
    "def get_score1(_a, _b):\n",
    "  i, j = them.index(_a), me.index(_b)\n",
    "  a, b = signs[i], signs[j]\n",
    "  if a == b:\n",
    "    return j + 1 + 3\n",
    "  if (a == \"R\" and b == \"P\") or (a == \"P\" and b == \"S\") or (a == \"S\" and b == \"R\"):\n",
    "    return j + 1 + 6\n",
    "  return j + 1\n",
    "    \n",
    "  "
   ]
  },
  {
   "cell_type": "code",
   "execution_count": null,
   "metadata": {},
   "outputs": [],
   "source": [
    "sum(get_score1(r.opponent, r.response) for _, r in read_input02().iterrows())"
   ]
  },
  {
   "cell_type": "code",
   "execution_count": null,
   "metadata": {},
   "outputs": [],
   "source": [
    "outcome = [\"L\",  \"D\", \"W\"]\n",
    "to_lose = {\"R\": \"S\", \"P\": \"R\", \"S\": \"P\"}\n",
    "to_win = {\"R\": \"P\", \"P\": \"S\", \"S\": \"R\"}\n",
    "\n",
    "def get_score2(_a, _b):\n",
    "  i, j = them.index(_a), me.index(_b)\n",
    "  a, o = signs[i], outcome[j]\n",
    "  if o == \"D\":\n",
    "    return i + 1 + 3\n",
    "  if o == \"L\":\n",
    "    b = to_lose[a]\n",
    "    j = signs.index(b)\n",
    "    return j + 1\n",
    "  b = to_win[a]\n",
    "  j = signs.index(b)\n",
    "  return j + 1 + 6\n"
   ]
  },
  {
   "cell_type": "code",
   "execution_count": null,
   "metadata": {},
   "outputs": [],
   "source": [
    "sum(get_score2(r.opponent, r.response) for _, r in read_input02().iterrows())"
   ]
  }
 ],
 "metadata": {
  "kernelspec": {
   "display_name": "Python 3.10.8 64-bit",
   "language": "python",
   "name": "python3"
  },
  "language_info": {
   "codemirror_mode": {
    "name": "ipython",
    "version": 3
   },
   "file_extension": ".py",
   "mimetype": "text/x-python",
   "name": "python",
   "nbconvert_exporter": "python",
   "pygments_lexer": "ipython3",
   "version": "3.10.8"
  },
  "orig_nbformat": 4,
  "vscode": {
   "interpreter": {
    "hash": "5cf590adf64b12f100e2631293f66eedf21812d31d21d345d3dafaac5b13c0f5"
   }
  }
 },
 "nbformat": 4,
 "nbformat_minor": 2
}
