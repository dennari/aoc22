{
 "cells": [
  {
   "cell_type": "code",
   "execution_count": null,
   "metadata": {},
   "outputs": [],
   "source": [
    "# Day 10: Cathode-Ray Tube\n",
    "import numpy as np\n",
    "import matplotlib.pyplot as plt\n",
    "\n",
    "# PART 1\n",
    "C = {\n",
    "    \"noop\": 1,\n",
    "    \"addx\": 2\n",
    "}\n",
    "def get_instructions(filename=\"input.txt\"):\n",
    "    with open(filename) as f:\n",
    "        lines = f.readlines()\n",
    "    for l in lines:\n",
    "        l = l.strip()\n",
    "        parts = l.split()\n",
    "        cmd, arg = (parts[0], int(parts[1])) if len(parts) > 1 else (parts[0], None)\n",
    "        yield cmd, arg, C[cmd]\n",
    "\n",
    "X = 1\n",
    "cycles = []\n",
    "for i, _cmd in enumerate(get_instructions(\"input.txt\")):\n",
    "    cmd, a, L = _cmd\n",
    "    for _ in range(L):\n",
    "        cycles.append(X)\n",
    "    match cmd:\n",
    "        case 'noop':\n",
    "            pass\n",
    "        case 'addx':\n",
    "            X += a\n",
    "\n",
    "def interesting_strengths():\n",
    "    for k, x in enumerate(cycles):\n",
    "        kk = k +1\n",
    "        if kk == 20 or ((kk - 20) % 40 == 0):\n",
    "            yield kk * x\n",
    "        if kk > 220:\n",
    "            break\n",
    "\n",
    "print(sum(s for s in interesting_strengths()))\n",
    "\n",
    "# PART 2\n",
    "\n",
    "CRT = np.zeros((6, 40), dtype=np.uint8)\n",
    "\n",
    "row = []\n",
    "for k, x in enumerate(cycles):\n",
    "    j, i = (k % 40), k // 40\n",
    "    if j == 0:\n",
    "        row = []\n",
    "    # if i == 0 or k == len(cycles) - 1:\n",
    "    #     print(i,j,k)\n",
    "    CRT[i, j] = 1 if x - 1 <= j <= x+1 else 0\n",
    "    row.append(\"#\" if CRT[i,j] else \".\")\n",
    "    if i == 1:\n",
    "        print(\"\".join(row), j, x)\n",
    "\n",
    "plt.imshow(CRT > 0)    "
   ]
  },
  {
   "cell_type": "code",
   "execution_count": null,
   "metadata": {},
   "outputs": [],
   "source": []
  }
 ],
 "metadata": {
  "kernelspec": {
   "display_name": ".venv",
   "language": "python",
   "name": "python3"
  },
  "language_info": {
   "codemirror_mode": {
    "name": "ipython",
    "version": 3
   },
   "file_extension": ".py",
   "mimetype": "text/x-python",
   "name": "python",
   "nbconvert_exporter": "python",
   "pygments_lexer": "ipython3",
   "version": "3.11.0"
  },
  "orig_nbformat": 4,
  "vscode": {
   "interpreter": {
    "hash": "72b46a1789ac70e35fa8c1a372396413ffe12f6638ab724b52d71104cecec0df"
   }
  }
 },
 "nbformat": 4,
 "nbformat_minor": 2
}
