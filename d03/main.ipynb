{
 "cells": [
  {
   "cell_type": "code",
   "execution_count": null,
   "metadata": {},
   "outputs": [],
   "source": [
    "import pandas as pd\n",
    "import string\n",
    "from typing import List\n"
   ]
  },
  {
   "cell_type": "code",
   "execution_count": null,
   "metadata": {},
   "outputs": [],
   "source": [
    "def splitline(l: str):\n",
    "  n = len(l)\n",
    "  return l[:n//2], l[n//2:]\n",
    "def read_input03(filename=\"input.txt\"):\n",
    "  with open(filename) as f:\n",
    "    a = f.readlines()\n",
    "  return [splitline(l.rstrip()) for l in a]\n",
    "# read_input03()\n"
   ]
  },
  {
   "cell_type": "code",
   "execution_count": null,
   "metadata": {},
   "outputs": [],
   "source": [
    "def commonchar(a, b):\n",
    "  for c1 in a:\n",
    "    for c2 in b:\n",
    "      if c1 == c2:\n",
    "        return c1\n",
    "  return None\n",
    "commons = [commonchar(*g) for g in read_input03()]\n",
    "commons[:10]\n"
   ]
  },
  {
   "cell_type": "code",
   "execution_count": null,
   "metadata": {},
   "outputs": [],
   "source": [
    "points = list(string.ascii_lowercase) + list(string.ascii_uppercase)\n",
    "len(points)"
   ]
  },
  {
   "cell_type": "code",
   "execution_count": null,
   "metadata": {},
   "outputs": [],
   "source": [
    "sum(points.index(c) + 1 for c in commons)"
   ]
  },
  {
   "cell_type": "code",
   "execution_count": null,
   "metadata": {},
   "outputs": [],
   "source": [
    "# PART 2\n",
    "def read_triplet(fp):\n",
    "  g = []\n",
    "  for i in range(3):\n",
    "    l =  fp.readline()\n",
    "    if len(l) == 0:\n",
    "      return g\n",
    "    g.append(l.rstrip())\n",
    "  return g\n",
    "\n",
    "def read_input03_2(filename=\"input.txt\"):\n",
    "  with open(filename) as f:\n",
    "    while(True):\n",
    "      g = read_triplet(f)\n",
    "      if len(g) == 0:\n",
    "        break\n",
    "      yield g\n",
    "    a = f.readlines()\n",
    "\n",
    "triplets = list(read_input03_2())\n",
    "\n"
   ]
  },
  {
   "cell_type": "code",
   "execution_count": null,
   "metadata": {},
   "outputs": [],
   "source": [
    "triplets[:2]"
   ]
  },
  {
   "cell_type": "code",
   "execution_count": null,
   "metadata": {},
   "outputs": [],
   "source": [
    "\n",
    "\n",
    "def commonitem(lines: List[str]):\n",
    "  l1 = lines[0] \n",
    "  others = lines[1:]\n",
    "  n = len(lines)\n",
    "  if n != 3:\n",
    "    raise Exception(\"Unexpected\")\n",
    "  for a in l1:\n",
    "    count = 1\n",
    "    for l in others:\n",
    "      if a in l:\n",
    "        count += 1\n",
    "    if count == n:\n",
    "      return a\n",
    "  return None\n",
    "\n",
    "commonitem(triplets[0])\n",
    "badges = [commonitem(t) for t in triplets]"
   ]
  },
  {
   "cell_type": "code",
   "execution_count": null,
   "metadata": {},
   "outputs": [],
   "source": [
    "sum(points.index(c) + 1 for c in badges)"
   ]
  }
 ],
 "metadata": {
  "kernelspec": {
   "display_name": "Python 3.10.8 64-bit",
   "language": "python",
   "name": "python3"
  },
  "language_info": {
   "codemirror_mode": {
    "name": "ipython",
    "version": 3
   },
   "file_extension": ".py",
   "mimetype": "text/x-python",
   "name": "python",
   "nbconvert_exporter": "python",
   "pygments_lexer": "ipython3",
   "version": "3.10.8"
  },
  "orig_nbformat": 4,
  "vscode": {
   "interpreter": {
    "hash": "5cf590adf64b12f100e2631293f66eedf21812d31d21d345d3dafaac5b13c0f5"
   }
  }
 },
 "nbformat": 4,
 "nbformat_minor": 2
}
