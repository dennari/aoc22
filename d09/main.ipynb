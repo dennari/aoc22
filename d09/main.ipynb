{
 "cells": [
  {
   "cell_type": "code",
   "execution_count": null,
   "metadata": {},
   "outputs": [],
   "source": [
    "import numpy as np\n",
    "def get_step(filename=\"input.txt\"):\n",
    "    with open(filename) as f:\n",
    "        lines = f.readlines()\n",
    "    for l in lines:\n",
    "        l = l.strip()\n",
    "        d, n = l.split()\n",
    "        yield d, int(n)\n",
    "\n",
    "U = np.eye(2, dtype=int)\n",
    "E = np.vstack([U, -U]) # up, right, down, left\n",
    "\n",
    "for e in E:\n",
    "    print(e)\n",
    "\n",
    "D = {k: E[i,:] for i,k in enumerate([\"U\", \"R\", \"D\", \"L\"])}\n",
    "D\n"
   ]
  },
  {
   "cell_type": "code",
   "execution_count": null,
   "metadata": {},
   "outputs": [],
   "source": [
    "{tuple(r) for r in E}\n",
    "print(zero)"
   ]
  },
  {
   "cell_type": "code",
   "execution_count": null,
   "metadata": {},
   "outputs": [],
   "source": [
    "from typing import List, Tuple\n",
    "\n",
    "\n",
    "def head_delta(e: np.array, n):\n",
    "    return n*e\n",
    "zero = np.zeros_like(E[0,:])\n",
    "def tail_delta(prev_tail, prev_head, current_head):\n",
    "    d1 = current_head - prev_tail\n",
    "    d1l = (d1**2).sum()**0.5\n",
    "    if d1l < 2:\n",
    "        return zero\n",
    "    return prev_head - prev_tail\n",
    "\n",
    "def simulate_step(h, t, e: np.array, n: int):\n",
    "    h_ = h + head_delta(e, n)\n",
    "    t_ = t + tail_delta(t, h, h_)\n",
    "    return h_, t_\n",
    "\n",
    "def simulate_steps(steps):\n",
    "    h = zero\n",
    "    t = zero\n",
    "    heads, tails = [h], [t]\n",
    "    for d, n in steps:\n",
    "        e = D[d]\n",
    "        for _ in range(n):\n",
    "            h, t = simulate_step(h, t, e, 1)\n",
    "            heads.append(h)\n",
    "            tails.append(t)\n",
    "    return heads, tails\n",
    "\n",
    "\n",
    "hs, ts = simulate_steps(get_step(\"input.txt\"))\n",
    "# print(ts)\n",
    "print(len(ts), len(set(tuple(r) for r in ts)))\n"
   ]
  },
  {
   "cell_type": "code",
   "execution_count": null,
   "metadata": {},
   "outputs": [],
   "source": [
    "zero == zero"
   ]
  },
  {
   "cell_type": "code",
   "execution_count": null,
   "metadata": {},
   "outputs": [],
   "source": [
    "def simulate_steps2(steps, K= 10):\n",
    "    knots = [[zero] for _ in range(K)]\n",
    "    c = 0\n",
    "    for d, n in steps:\n",
    "        e_head = D[d]\n",
    "        for _ in range(n):\n",
    "            for i in range(K):\n",
    "                knots[i].append(knots[i][-1] + (e_head if i == 0 else e))\n",
    "                if i == 0:\n",
    "                    pass\n",
    "                    # print(knots[i][-2], knots[i][-1])\n",
    "                if i == 9 and c < 5:\n",
    "                    # print(e)\n",
    "                    c += 1\n",
    "                if i < K - 1:\n",
    "                    d1 = knots[i][-1] - knots[i+1][-1] # diff between current head and tail\n",
    "                    if (d1**2).sum()**0.5 < 2: # we didn't move enough yet\n",
    "                        e = zero\n",
    "                    elif i > 0 and sum(np.abs(e)) == 2:\n",
    "                        pass # keep the same move as the previous tail did, if the move was diagonal\n",
    "                    else:\n",
    "                        e = knots[i][-2] - knots[i+1][-1] # diff between prev head and tail, i.e. go to prev head\n",
    "                    # e = tail_delta(knots[i+1][-1], knots[i][-2], knots[i][-1])\n",
    "                # if np.all(e == zero): # the head didn't move\n",
    "                #     break\n",
    "            \n",
    "\n",
    "    return knots\n",
    "\n",
    "knots = simulate_steps2(get_step(\"test2.txt\"), K=10)\n",
    "# print(ts)\n",
    "# for k in knots:\n",
    "#     print(len(k), len(set(tuple(r) for r in k)))\n",
    "# print(np.hstack(list(np.array(k) for k in knots)))\n",
    "tail = np.array(knots[-1])\n",
    "_, idx = np.unique(tail, axis=0, return_index=True)\n",
    "print(tail[np.sort(idx)])"
   ]
  },
  {
   "cell_type": "code",
   "execution_count": null,
   "metadata": {},
   "outputs": [],
   "source": [
    "knots[-1]"
   ]
  },
  {
   "cell_type": "code",
   "execution_count": null,
   "metadata": {},
   "outputs": [],
   "source": [
    "import matplotlib.pyplot as plt\n",
    "im1 = plt.imshow(knots[-1], cmap=plt.cm.gray, interpolation='nearest', extent=(-20, 20, -20, 20))"
   ]
  },
  {
   "cell_type": "code",
   "execution_count": null,
   "metadata": {},
   "outputs": [],
   "source": [
    "pixels = np.array(knots[-1])\n",
    "pixels -= pixels.min(axis=0)\n",
    "#pixels\n",
    "ext = pixels.max(axis=0)+2\n",
    "print(ext)\n",
    "im = np.zeros(ext, dtype=int)\n",
    "print(im.shape, pixels.min(axis=0), pixels.max(axis=0))\n",
    "#list(pixels)\n",
    "im[pixels] = 1\n",
    "#plt.imshow(im > 0)"
   ]
  },
  {
   "cell_type": "code",
   "execution_count": null,
   "metadata": {},
   "outputs": [],
   "source": [
    "im"
   ]
  },
  {
   "cell_type": "code",
   "execution_count": null,
   "metadata": {},
   "outputs": [],
   "source": []
  }
 ],
 "metadata": {
  "kernelspec": {
   "display_name": ".venv",
   "language": "python",
   "name": "python3"
  },
  "language_info": {
   "codemirror_mode": {
    "name": "ipython",
    "version": 3
   },
   "file_extension": ".py",
   "mimetype": "text/x-python",
   "name": "python",
   "nbconvert_exporter": "python",
   "pygments_lexer": "ipython3",
   "version": "3.11.0 (main, Oct 25 2022, 14:13:24) [Clang 14.0.0 (clang-1400.0.29.202)]"
  },
  "orig_nbformat": 4,
  "vscode": {
   "interpreter": {
    "hash": "72b46a1789ac70e35fa8c1a372396413ffe12f6638ab724b52d71104cecec0df"
   }
  }
 },
 "nbformat": 4,
 "nbformat_minor": 2
}
