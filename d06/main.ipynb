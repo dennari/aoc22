{
 "cells": [
  {
   "cell_type": "code",
   "execution_count": null,
   "metadata": {},
   "outputs": [],
   "source": [
    "def read_input(filename=\"input.txt\"):\n",
    "    with open(filename) as f:\n",
    "        return f.readline().strip()\n",
    "\n",
    "def get_n(l: str, n: int):\n",
    "    N = len(l)\n",
    "    for i in range(N):\n",
    "        if i < n - 1:\n",
    "            continue\n",
    "        yield i+1, [l[(i-j):(i-j+1)] for j in reversed(range(n))]\n",
    "\n",
    "for n, c in get_n(read_input(), 4):\n",
    "    if len(set(c)) == len(c):\n",
    "        print(n)\n",
    "        break\n",
    "for n, c in get_n(read_input(), 14):\n",
    "    if len(set(c)) == len(c):\n",
    "        print(n)\n",
    "        break"
   ]
  }
 ],
 "metadata": {
  "kernelspec": {
   "display_name": "Python 3.11.0 64-bit",
   "language": "python",
   "name": "python3"
  },
  "language_info": {
   "codemirror_mode": {
    "name": "ipython",
    "version": 3
   },
   "file_extension": ".py",
   "mimetype": "text/x-python",
   "name": "python",
   "nbconvert_exporter": "python",
   "pygments_lexer": "ipython3",
   "version": "3.11.0"
  },
  "orig_nbformat": 4,
  "vscode": {
   "interpreter": {
    "hash": "1a1af0ee75eeea9e2e1ee996c87e7a2b11a0bebd85af04bb136d915cefc0abce"
   }
  }
 },
 "nbformat": 4,
 "nbformat_minor": 2
}
