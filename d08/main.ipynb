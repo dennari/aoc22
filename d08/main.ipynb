{
 "cells": [
  {
   "cell_type": "code",
   "execution_count": null,
   "metadata": {},
   "outputs": [],
   "source": [
    "import numpy as np\n"
   ]
  },
  {
   "attachments": {},
   "cell_type": "markdown",
   "metadata": {},
   "source": [
    "# PART 1"
   ]
  },
  {
   "cell_type": "code",
   "execution_count": null,
   "metadata": {},
   "outputs": [],
   "source": [
    "\n",
    "def setup(file=\"input.txt\"):\n",
    "    A = np.genfromtxt(file, delimiter=1, dtype=np.uint8)\n",
    "    m, n = A.shape\n",
    "    assert m == n\n",
    "    B = np.ones_like(A)\n",
    "    B[1:-1,1:-1] = 0\n",
    "    U = np.eye(2, dtype=np.int0)\n",
    "    E = np.vstack([U, -U]) # top, left, bottom, right\n",
    "    O = np.array(\n",
    "        [[1, 1], [1, 1], [n - 2, n - 2], [n - 2, n - 2]], dtype=np.uint8\n",
    "    )  # The starting points for checking each side, we neglect the borders\n",
    "    return A, B, E, O, n\n",
    "\n",
    "\n",
    "A, B, E, O, n = setup(\"input.txt\")\n",
    "for o, e in zip(O, E):\n",
    "    for m in range(n-2):\n",
    "        oo = o + m*e[::-1] # swap the axes, i.e take the orthogonal unit vector   \n",
    "        # print(oo)\n",
    "        h = A[tuple(oo - e)] # the highest tree along this direction, that we know of so far\n",
    "        for k in range(n-2):\n",
    "            c = tuple(oo + k*e) # current index\n",
    "            if h < A[c]: # c is visible\n",
    "                B[c] = 1\n",
    "                h = A[c]\n",
    "            if h >= 9:\n",
    "                break\n",
    "\n",
    "print(np.sum(B)) "
   ]
  },
  {
   "attachments": {},
   "cell_type": "markdown",
   "metadata": {},
   "source": [
    "# PART 2"
   ]
  },
  {
   "cell_type": "code",
   "execution_count": null,
   "metadata": {},
   "outputs": [],
   "source": [
    "def setup(file=\"input.txt\"):\n",
    "    A = np.genfromtxt(file, delimiter=1, dtype=np.uint8)\n",
    "    m, n = A.shape\n",
    "    assert m == n\n",
    "    B = np.zeros_like(A, dtype=np.uint64)\n",
    "    B[1:-1,1:-1] = 1\n",
    "    return A, B, n\n",
    "\n",
    "A, B, n = setup(\"input.txt\")\n",
    "AA = A[1:-1,1:-1] # the interior\n",
    "for i, h in np.ndenumerate(AA):\n",
    "    s = 1\n",
    "    for x in (0, 1):\n",
    "        y = 1 - x\n",
    "        for d in (1, -1):\n",
    "            ss = 1\n",
    "            rc = np.take(AA,i[x],axis=x)\n",
    "            v = rc[i[y]::d]\n",
    "            if len(v) > 1: # otherwise we're on the border\n",
    "                m = np.where(v[1:] >= h)[0]\n",
    "                ss = m[0] + 1 if len(m) > 0 else len(v)\n",
    "            s *= ss\n",
    "    B[i[0]+1, i[1]+1] = s\n",
    "print(B)\n",
    "print(np.max(B)) "
   ]
  }
 ],
 "metadata": {
  "kernelspec": {
   "display_name": "Python 3.11.0 ('.venv': poetry)",
   "language": "python",
   "name": "python3"
  },
  "language_info": {
   "codemirror_mode": {
    "name": "ipython",
    "version": 3
   },
   "file_extension": ".py",
   "mimetype": "text/x-python",
   "name": "python",
   "nbconvert_exporter": "python",
   "pygments_lexer": "ipython3",
   "version": "3.11.0"
  },
  "orig_nbformat": 4,
  "vscode": {
   "interpreter": {
    "hash": "72b46a1789ac70e35fa8c1a372396413ffe12f6638ab724b52d71104cecec0df"
   }
  }
 },
 "nbformat": 4,
 "nbformat_minor": 2
}
